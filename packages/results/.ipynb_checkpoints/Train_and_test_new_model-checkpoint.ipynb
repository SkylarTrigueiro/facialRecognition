{
 "cells": [
  {
   "cell_type": "code",
   "execution_count": 1,
   "metadata": {},
   "outputs": [
    {
     "name": "stderr",
     "output_type": "stream",
     "text": [
      "Using TensorFlow backend.\n"
     ]
    }
   ],
   "source": [
    "import torch\n",
    "import numpy as np\n",
    "import matplotlib.pyplot as plt\n",
    "\n",
    "from model.model import SiameseNN\n",
    "from model.processing.data_management import load_data, prepare_data, prepare_dataloader\n",
    "from model.config import config\n",
    "from model.train_model import run_training"
   ]
  },
  {
   "cell_type": "code",
   "execution_count": 2,
   "metadata": {},
   "outputs": [
    {
     "name": "stdout",
     "output_type": "stream",
     "text": [
      "C:\\Users\\skyst\\Documents\\ProfessionalDevelopment\\DataSciencePortfolio\\facialRecognition\\packages\\model\\model\\data\\subject*\n"
     ]
    }
   ],
   "source": [
    "data = load_data()\n",
    "train_images, train_labels, test_images, test_labels = prepare_data(data)"
   ]
  },
  {
   "cell_type": "code",
   "execution_count": 3,
   "metadata": {},
   "outputs": [],
   "source": [
    "train_positives, train_negatives, test_positives, test_negatives = prepare_dataloader(train_images, train_labels, test_images, test_labels)"
   ]
  },
  {
   "cell_type": "code",
   "execution_count": 4,
   "metadata": {
    "scrolled": false
   },
   "outputs": [
    {
     "name": "stdout",
     "output_type": "stream",
     "text": [
      "C:\\Users\\skyst\\Documents\\ProfessionalDevelopment\\DataSciencePortfolio\\facialRecognition\\packages\\model\\model\\data\\subject*\n",
      "cuda:0\n",
      "Epoch 1/128, Train Loss: 4.0625,         Test Loss: 3.1745, Duration: 0:00:07.477307\n",
      "Epoch 2/128, Train Loss: 0.1558,         Test Loss: 0.1215, Duration: 0:00:06.226984\n",
      "Epoch 3/128, Train Loss: 0.1226,         Test Loss: 0.1000, Duration: 0:00:06.239242\n",
      "Epoch 4/128, Train Loss: 0.1034,         Test Loss: 0.1325, Duration: 0:00:06.270159\n",
      "Epoch 5/128, Train Loss: 0.0958,         Test Loss: 0.0861, Duration: 0:00:06.309844\n",
      "Epoch 6/128, Train Loss: 0.0896,         Test Loss: 0.0883, Duration: 0:00:06.257989\n",
      "Epoch 7/128, Train Loss: 0.0566,         Test Loss: 0.0931, Duration: 0:00:06.323427\n",
      "Epoch 8/128, Train Loss: 0.0454,         Test Loss: 0.0885, Duration: 0:00:06.291802\n",
      "Epoch 9/128, Train Loss: 0.0455,         Test Loss: 0.1217, Duration: 0:00:06.507603\n",
      "Epoch 10/128, Train Loss: 0.0452,         Test Loss: 0.1038, Duration: 0:00:06.417846\n",
      "Epoch 11/128, Train Loss: 0.0395,         Test Loss: 0.0989, Duration: 0:00:06.307480\n",
      "Epoch 12/128, Train Loss: 0.0295,         Test Loss: 0.1132, Duration: 0:00:06.310880\n",
      "Epoch 13/128, Train Loss: 0.0253,         Test Loss: 0.1212, Duration: 0:00:06.244931\n",
      "Epoch 14/128, Train Loss: 0.0366,         Test Loss: 0.1281, Duration: 0:00:06.312570\n",
      "Epoch 15/128, Train Loss: 0.0296,         Test Loss: 0.1084, Duration: 0:00:06.626477\n",
      "Epoch 16/128, Train Loss: 0.0391,         Test Loss: 0.1140, Duration: 0:00:06.417892\n",
      "Epoch 17/128, Train Loss: 0.0363,         Test Loss: 0.1207, Duration: 0:00:06.344442\n",
      "Epoch 18/128, Train Loss: 0.0309,         Test Loss: 0.1234, Duration: 0:00:06.360798\n",
      "Epoch 19/128, Train Loss: 0.0374,         Test Loss: 0.1180, Duration: 0:00:06.371070\n",
      "Epoch 20/128, Train Loss: 0.0450,         Test Loss: 0.0620, Duration: 0:00:06.412814\n",
      "Epoch 21/128, Train Loss: 0.0421,         Test Loss: 0.1286, Duration: 0:00:06.539050\n",
      "Epoch 22/128, Train Loss: 0.0311,         Test Loss: 0.1229, Duration: 0:00:06.622597\n",
      "Epoch 23/128, Train Loss: 0.0283,         Test Loss: 0.1303, Duration: 0:00:06.556760\n",
      "Epoch 24/128, Train Loss: 0.0274,         Test Loss: 0.1478, Duration: 0:00:06.355131\n",
      "Epoch 25/128, Train Loss: 0.0426,         Test Loss: 0.1548, Duration: 0:00:06.372851\n",
      "Epoch 26/128, Train Loss: 0.0601,         Test Loss: 0.0849, Duration: 0:00:06.439892\n",
      "Epoch 27/128, Train Loss: 0.0347,         Test Loss: 0.1645, Duration: 0:00:06.594639\n",
      "Epoch 28/128, Train Loss: 0.0283,         Test Loss: 0.1295, Duration: 0:00:06.433691\n",
      "Epoch 29/128, Train Loss: 0.0263,         Test Loss: 0.1919, Duration: 0:00:06.410665\n",
      "Epoch 30/128, Train Loss: 0.0176,         Test Loss: 0.2132, Duration: 0:00:06.374986\n",
      "Epoch 31/128, Train Loss: 0.0231,         Test Loss: 0.2421, Duration: 0:00:06.352912\n",
      "Epoch 32/128, Train Loss: 0.0251,         Test Loss: 0.1329, Duration: 0:00:06.354149\n",
      "Epoch 33/128, Train Loss: 0.0349,         Test Loss: 0.2029, Duration: 0:00:06.318323\n",
      "Epoch 34/128, Train Loss: 0.0313,         Test Loss: 0.1253, Duration: 0:00:06.310123\n",
      "Epoch 35/128, Train Loss: 0.0239,         Test Loss: 0.1630, Duration: 0:00:06.303174\n",
      "Epoch 36/128, Train Loss: 0.0245,         Test Loss: 0.1276, Duration: 0:00:06.352471\n",
      "Epoch 37/128, Train Loss: 0.0183,         Test Loss: 0.2011, Duration: 0:00:06.615418\n",
      "Epoch 38/128, Train Loss: 0.0211,         Test Loss: 0.2061, Duration: 0:00:06.796940\n",
      "Epoch 39/128, Train Loss: 0.0255,         Test Loss: 0.2117, Duration: 0:00:06.315336\n",
      "Epoch 40/128, Train Loss: 0.0228,         Test Loss: 0.1256, Duration: 0:00:06.280062\n",
      "Epoch 41/128, Train Loss: 0.0217,         Test Loss: 0.1926, Duration: 0:00:06.526407\n",
      "Epoch 42/128, Train Loss: 0.0200,         Test Loss: 0.2224, Duration: 0:00:06.478487\n"
     ]
    },
    {
     "ename": "KeyboardInterrupt",
     "evalue": "",
     "output_type": "error",
     "traceback": [
      "\u001b[1;31m---------------------------------------------------------------------------\u001b[0m",
      "\u001b[1;31mKeyboardInterrupt\u001b[0m                         Traceback (most recent call last)",
      "\u001b[1;32m<ipython-input-4-fa1b1bc19df4>\u001b[0m in \u001b[0;36m<module>\u001b[1;34m\u001b[0m\n\u001b[1;32m----> 1\u001b[1;33m \u001b[0mmodel\u001b[0m\u001b[1;33m,\u001b[0m \u001b[0mtrain_losses\u001b[0m\u001b[1;33m,\u001b[0m \u001b[0mtest_losses\u001b[0m \u001b[1;33m=\u001b[0m \u001b[0mrun_training\u001b[0m\u001b[1;33m(\u001b[0m\u001b[1;33m)\u001b[0m\u001b[1;33m\u001b[0m\u001b[1;33m\u001b[0m\u001b[0m\n\u001b[0m",
      "\u001b[1;32m~\\Documents\\ProfessionalDevelopment\\DataSciencePortfolio\\facialRecognition\\packages\\model\\model\\train_model.py\u001b[0m in \u001b[0;36mrun_training\u001b[1;34m()\u001b[0m\n\u001b[0;32m     35\u001b[0m                 \u001b[0mtrain_steps\u001b[0m\u001b[1;33m,\u001b[0m\u001b[1;33m\u001b[0m\u001b[1;33m\u001b[0m\u001b[0m\n\u001b[0;32m     36\u001b[0m                 \u001b[0mtest_steps\u001b[0m\u001b[1;33m,\u001b[0m\u001b[1;33m\u001b[0m\u001b[1;33m\u001b[0m\u001b[0m\n\u001b[1;32m---> 37\u001b[1;33m \t\tconfig.EPOCHS)\n\u001b[0m\u001b[0;32m     38\u001b[0m \u001b[1;33m\u001b[0m\u001b[0m\n\u001b[0;32m     39\u001b[0m         \u001b[1;32mreturn\u001b[0m \u001b[0mtrain_losses\u001b[0m\u001b[1;33m,\u001b[0m \u001b[0mtest_losses\u001b[0m\u001b[1;33m\u001b[0m\u001b[1;33m\u001b[0m\u001b[0m\n",
      "\u001b[1;32m~\\Documents\\ProfessionalDevelopment\\DataSciencePortfolio\\facialRecognition\\packages\\model\\model\\model.py\u001b[0m in \u001b[0;36mbatch_gd\u001b[1;34m(model, criterion, optimizer, train_gen, test_gen, train_steps_per_epoch, test_steps_per_epoch, epochs)\u001b[0m\n\u001b[0;32m     98\u001b[0m             \u001b[0moptimizer\u001b[0m\u001b[1;33m.\u001b[0m\u001b[0mstep\u001b[0m\u001b[1;33m(\u001b[0m\u001b[1;33m)\u001b[0m\u001b[1;33m\u001b[0m\u001b[1;33m\u001b[0m\u001b[0m\n\u001b[0;32m     99\u001b[0m \u001b[1;33m\u001b[0m\u001b[0m\n\u001b[1;32m--> 100\u001b[1;33m             \u001b[0mtrain_loss\u001b[0m\u001b[1;33m.\u001b[0m\u001b[0mappend\u001b[0m\u001b[1;33m(\u001b[0m\u001b[0mloss\u001b[0m\u001b[1;33m.\u001b[0m\u001b[0mitem\u001b[0m\u001b[1;33m(\u001b[0m\u001b[1;33m)\u001b[0m\u001b[1;33m)\u001b[0m\u001b[1;33m\u001b[0m\u001b[1;33m\u001b[0m\u001b[0m\n\u001b[0m\u001b[0;32m    101\u001b[0m \u001b[1;33m\u001b[0m\u001b[0m\n\u001b[0;32m    102\u001b[0m             \u001b[1;31m# Update steps\u001b[0m\u001b[1;33m\u001b[0m\u001b[1;33m\u001b[0m\u001b[1;33m\u001b[0m\u001b[0m\n",
      "\u001b[1;31mKeyboardInterrupt\u001b[0m: "
     ]
    }
   ],
   "source": [
    "train_losses, test_losses = run_training()"
   ]
  },
  {
   "cell_type": "code",
   "execution_count": null,
   "metadata": {},
   "outputs": [],
   "source": [
    "model.load_state_dict( state_dict = torch.load(config.TRAINED_MODEL_DIR / config.MODEL_NAME) )"
   ]
  },
  {
   "cell_type": "code",
   "execution_count": null,
   "metadata": {},
   "outputs": [],
   "source": [
    "plt.plot(train_losses, label='train loss')\n",
    "plt.plot(test_losses, label='test loss')\n",
    "plt.legend()\n",
    "plt.show()"
   ]
  },
  {
   "cell_type": "code",
   "execution_count": null,
   "metadata": {},
   "outputs": [],
   "source": [
    "from model.score import get_train_accuracy, get_test_accuracy"
   ]
  },
  {
   "cell_type": "code",
   "execution_count": null,
   "metadata": {},
   "outputs": [],
   "source": [
    "get_train_accuracy(model, train_images, train_positives, train_negatives, threshold=0.70)"
   ]
  },
  {
   "cell_type": "code",
   "execution_count": null,
   "metadata": {},
   "outputs": [],
   "source": [
    "get_test_accuracy(model, test_images, test_positives, test_negatives, threshold=0.70)"
   ]
  },
  {
   "cell_type": "code",
   "execution_count": null,
   "metadata": {},
   "outputs": [],
   "source": []
  }
 ],
 "metadata": {
  "kernelspec": {
   "display_name": "Python 3",
   "language": "python",
   "name": "python3"
  },
  "language_info": {
   "codemirror_mode": {
    "name": "ipython",
    "version": 3
   },
   "file_extension": ".py",
   "mimetype": "text/x-python",
   "name": "python",
   "nbconvert_exporter": "python",
   "pygments_lexer": "ipython3",
   "version": "3.7.9"
  }
 },
 "nbformat": 4,
 "nbformat_minor": 4
}
