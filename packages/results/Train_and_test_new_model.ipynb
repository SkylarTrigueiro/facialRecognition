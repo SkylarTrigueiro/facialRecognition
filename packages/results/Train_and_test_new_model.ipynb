{
 "cells": [
  {
   "cell_type": "code",
   "execution_count": 1,
   "metadata": {},
   "outputs": [
    {
     "name": "stderr",
     "output_type": "stream",
     "text": [
      "Using TensorFlow backend.\n"
     ]
    }
   ],
   "source": [
    "import torch\n",
    "import numpy as np\n",
    "import matplotlib.pyplot as plt\n",
    "\n",
    "from model.model import SiameseNN\n",
    "from model.processing.data_management import load_data, prepare_data, prepare_dataloader\n",
    "from model.config import config\n",
    "from model.train_model import run_training"
   ]
  },
  {
   "cell_type": "code",
   "execution_count": 2,
   "metadata": {},
   "outputs": [
    {
     "name": "stdout",
     "output_type": "stream",
     "text": [
      "C:\\Users\\skyst\\Documents\\ProfessionalDevelopment\\DataSciencePortfolio\\facialRecognition\\packages\\model\\model\\data\\subject*\n"
     ]
    }
   ],
   "source": [
    "data = load_data()\n",
    "train_images, train_labels, test_images, test_labels = prepare_data(data)"
   ]
  },
  {
   "cell_type": "code",
   "execution_count": 3,
   "metadata": {},
   "outputs": [],
   "source": [
    "train_positives, train_negatives, test_positives, test_negatives = prepare_dataloader(train_images, train_labels, test_images, test_labels)"
   ]
  },
  {
   "cell_type": "code",
   "execution_count": 4,
   "metadata": {
    "scrolled": false
   },
   "outputs": [
    {
     "name": "stdout",
     "output_type": "stream",
     "text": [
      "C:\\Users\\skyst\\Documents\\ProfessionalDevelopment\\DataSciencePortfolio\\facialRecognition\\packages\\model\\model\\data\\subject*\n",
      "cuda:0\n",
      "Epoch 1/128, Train Loss: 5.3919,         Test Loss: 3.1319, Duration: 0:00:07.336249\n",
      "Epoch 2/128, Train Loss: 0.1416,         Test Loss: 0.1406, Duration: 0:00:06.019219\n",
      "Epoch 3/128, Train Loss: 0.1352,         Test Loss: 0.2530, Duration: 0:00:06.064813\n",
      "Epoch 4/128, Train Loss: 0.1074,         Test Loss: 0.1556, Duration: 0:00:06.121400\n",
      "Epoch 5/128, Train Loss: 0.0891,         Test Loss: 0.1216, Duration: 0:00:06.159396\n",
      "Epoch 6/128, Train Loss: 0.0668,         Test Loss: 0.1386, Duration: 0:00:06.160403\n",
      "Epoch 7/128, Train Loss: 0.0561,         Test Loss: 0.1164, Duration: 0:00:06.148472\n",
      "Epoch 8/128, Train Loss: 0.0498,         Test Loss: 0.1589, Duration: 0:00:06.227260\n",
      "Epoch 9/128, Train Loss: 0.0511,         Test Loss: 0.1501, Duration: 0:00:06.169599\n",
      "Epoch 10/128, Train Loss: 0.0524,         Test Loss: 0.1387, Duration: 0:00:06.207871\n",
      "Epoch 11/128, Train Loss: 0.0659,         Test Loss: 0.1390, Duration: 0:00:06.161743\n",
      "Epoch 12/128, Train Loss: 0.0468,         Test Loss: 0.1740, Duration: 0:00:06.229203\n",
      "Epoch 13/128, Train Loss: 0.0494,         Test Loss: 0.1624, Duration: 0:00:06.262835\n",
      "Epoch 14/128, Train Loss: 0.0457,         Test Loss: 0.1875, Duration: 0:00:06.256032\n",
      "Epoch 15/128, Train Loss: 0.0383,         Test Loss: 0.1580, Duration: 0:00:06.257076\n",
      "Epoch 16/128, Train Loss: 0.0417,         Test Loss: 0.2510, Duration: 0:00:06.269994\n",
      "Epoch 17/128, Train Loss: 0.0406,         Test Loss: 0.1941, Duration: 0:00:06.248033\n",
      "Epoch 18/128, Train Loss: 0.0416,         Test Loss: 0.1796, Duration: 0:00:06.263857\n",
      "Epoch 19/128, Train Loss: 0.0364,         Test Loss: 0.2129, Duration: 0:00:06.266594\n",
      "Epoch 20/128, Train Loss: 0.0425,         Test Loss: 0.1609, Duration: 0:00:06.480683\n",
      "Epoch 21/128, Train Loss: 0.0397,         Test Loss: 0.1815, Duration: 0:00:06.311732\n",
      "Epoch 22/128, Train Loss: 0.0317,         Test Loss: 0.2899, Duration: 0:00:06.308223\n",
      "Epoch 23/128, Train Loss: 0.0285,         Test Loss: 0.2524, Duration: 0:00:06.393297\n",
      "Epoch 24/128, Train Loss: 0.0378,         Test Loss: 0.1857, Duration: 0:00:06.228412\n",
      "Epoch 25/128, Train Loss: 0.0254,         Test Loss: 0.2332, Duration: 0:00:06.284410\n",
      "Epoch 26/128, Train Loss: 0.0242,         Test Loss: 0.2941, Duration: 0:00:06.356108\n",
      "Epoch 27/128, Train Loss: 0.0231,         Test Loss: 0.2779, Duration: 0:00:06.336908\n",
      "Epoch 28/128, Train Loss: 0.0232,         Test Loss: 0.2586, Duration: 0:00:06.394249\n",
      "Epoch 29/128, Train Loss: 0.0273,         Test Loss: 0.3079, Duration: 0:00:06.401752\n",
      "Epoch 30/128, Train Loss: 0.0272,         Test Loss: 0.3416, Duration: 0:00:06.369187\n",
      "Epoch 31/128, Train Loss: 0.0278,         Test Loss: 0.4068, Duration: 0:00:06.395034\n",
      "Epoch 32/128, Train Loss: 0.0214,         Test Loss: 0.3051, Duration: 0:00:06.314873\n",
      "Epoch 33/128, Train Loss: 0.0291,         Test Loss: 0.2717, Duration: 0:00:06.304799\n",
      "Epoch 34/128, Train Loss: 0.0263,         Test Loss: 0.3138, Duration: 0:00:06.303295\n",
      "Epoch 35/128, Train Loss: 0.0394,         Test Loss: 0.1867, Duration: 0:00:06.320886\n",
      "Epoch 36/128, Train Loss: 0.0337,         Test Loss: 0.2874, Duration: 0:00:06.256081\n",
      "Epoch 37/128, Train Loss: 0.0267,         Test Loss: 0.3729, Duration: 0:00:06.323183\n",
      "Epoch 38/128, Train Loss: 0.0253,         Test Loss: 0.2490, Duration: 0:00:06.338493\n",
      "Epoch 39/128, Train Loss: 0.0275,         Test Loss: 0.3340, Duration: 0:00:06.271048\n",
      "Epoch 40/128, Train Loss: 0.0431,         Test Loss: 0.1912, Duration: 0:00:06.246162\n",
      "Epoch 41/128, Train Loss: 0.0314,         Test Loss: 0.3226, Duration: 0:00:06.208503\n",
      "Epoch 42/128, Train Loss: 0.0191,         Test Loss: 0.2885, Duration: 0:00:06.235803\n",
      "Epoch 43/128, Train Loss: 0.0332,         Test Loss: 0.1834, Duration: 0:00:06.304000\n",
      "Epoch 44/128, Train Loss: 0.0222,         Test Loss: 0.4418, Duration: 0:00:06.306857\n",
      "Epoch 45/128, Train Loss: 0.0224,         Test Loss: 0.4258, Duration: 0:00:06.377662\n",
      "Epoch 46/128, Train Loss: 0.0138,         Test Loss: 0.4507, Duration: 0:00:06.467071\n",
      "Epoch 47/128, Train Loss: 0.0240,         Test Loss: 0.4489, Duration: 0:00:06.237716\n",
      "Epoch 48/128, Train Loss: 0.0153,         Test Loss: 0.3847, Duration: 0:00:06.232092\n",
      "Epoch 49/128, Train Loss: 0.0251,         Test Loss: 0.3963, Duration: 0:00:06.275958\n",
      "Epoch 50/128, Train Loss: 0.0230,         Test Loss: 0.3098, Duration: 0:00:06.260747\n",
      "Epoch 51/128, Train Loss: 0.0180,         Test Loss: 0.4174, Duration: 0:00:06.335444\n",
      "Epoch 52/128, Train Loss: 0.0194,         Test Loss: 0.3933, Duration: 0:00:06.354361\n",
      "Epoch 53/128, Train Loss: 0.0145,         Test Loss: 0.3813, Duration: 0:00:06.390595\n",
      "Epoch 54/128, Train Loss: 0.0138,         Test Loss: 0.4174, Duration: 0:00:06.346616\n",
      "Epoch 55/128, Train Loss: 0.0209,         Test Loss: 0.4668, Duration: 0:00:06.471046\n",
      "Epoch 56/128, Train Loss: 0.0210,         Test Loss: 0.2842, Duration: 0:00:06.471302\n",
      "Epoch 57/128, Train Loss: 0.0196,         Test Loss: 0.4328, Duration: 0:00:06.327559\n",
      "Epoch 58/128, Train Loss: 0.0148,         Test Loss: 0.4932, Duration: 0:00:06.279415\n",
      "Epoch 59/128, Train Loss: 0.0222,         Test Loss: 0.3749, Duration: 0:00:06.271137\n",
      "Epoch 60/128, Train Loss: 0.0172,         Test Loss: 0.3684, Duration: 0:00:06.307333\n",
      "Epoch 61/128, Train Loss: 0.0130,         Test Loss: 0.3731, Duration: 0:00:06.305350\n",
      "Epoch 62/128, Train Loss: 0.0178,         Test Loss: 0.3415, Duration: 0:00:06.337702\n",
      "Epoch 63/128, Train Loss: 0.0188,         Test Loss: 0.4152, Duration: 0:00:06.358108\n",
      "Epoch 64/128, Train Loss: 0.0320,         Test Loss: 0.3268, Duration: 0:00:06.292013\n",
      "Epoch 65/128, Train Loss: 0.0276,         Test Loss: 0.4591, Duration: 0:00:06.255917\n",
      "Epoch 66/128, Train Loss: 0.0222,         Test Loss: 0.3926, Duration: 0:00:06.554290\n",
      "Epoch 67/128, Train Loss: 0.0240,         Test Loss: 0.5862, Duration: 0:00:06.455439\n",
      "Epoch 68/128, Train Loss: 0.0175,         Test Loss: 0.3658, Duration: 0:00:06.524107\n",
      "Epoch 69/128, Train Loss: 0.0183,         Test Loss: 0.4629, Duration: 0:00:06.325533\n",
      "Epoch 70/128, Train Loss: 0.0147,         Test Loss: 0.5336, Duration: 0:00:06.264139\n",
      "Epoch 71/128, Train Loss: 0.0143,         Test Loss: 0.5010, Duration: 0:00:06.979059\n",
      "Epoch 72/128, Train Loss: 0.0109,         Test Loss: 0.6463, Duration: 0:00:06.385856\n",
      "Epoch 73/128, Train Loss: 0.0124,         Test Loss: 0.6940, Duration: 0:00:06.240879\n",
      "Epoch 74/128, Train Loss: 0.0118,         Test Loss: 0.6458, Duration: 0:00:06.243321\n",
      "Epoch 75/128, Train Loss: 0.0165,         Test Loss: 0.4012, Duration: 0:00:06.324286\n",
      "Epoch 76/128, Train Loss: 0.0173,         Test Loss: 0.5747, Duration: 0:00:06.559745\n",
      "Epoch 77/128, Train Loss: 0.0167,         Test Loss: 0.6629, Duration: 0:00:06.390620\n",
      "Epoch 78/128, Train Loss: 0.0160,         Test Loss: 0.7496, Duration: 0:00:06.258331\n",
      "Epoch 79/128, Train Loss: 0.0105,         Test Loss: 0.5601, Duration: 0:00:06.286914\n",
      "Epoch 80/128, Train Loss: 0.0111,         Test Loss: 0.6883, Duration: 0:00:06.300533\n",
      "Epoch 81/128, Train Loss: 0.0125,         Test Loss: 0.6340, Duration: 0:00:06.382995\n",
      "Epoch 82/128, Train Loss: 0.0111,         Test Loss: 0.8644, Duration: 0:00:06.542200\n",
      "Epoch 83/128, Train Loss: 0.0122,         Test Loss: 0.7187, Duration: 0:00:06.548956\n",
      "Epoch 84/128, Train Loss: 0.0105,         Test Loss: 0.5507, Duration: 0:00:06.275154\n",
      "Epoch 85/128, Train Loss: 0.0197,         Test Loss: 0.7278, Duration: 0:00:06.270048\n",
      "Epoch 86/128, Train Loss: 0.0129,         Test Loss: 0.6348, Duration: 0:00:06.271818\n",
      "Epoch 87/128, Train Loss: 0.0107,         Test Loss: 0.6474, Duration: 0:00:06.331623\n",
      "Epoch 88/128, Train Loss: 0.0137,         Test Loss: 0.6464, Duration: 0:00:06.408955\n",
      "Epoch 89/128, Train Loss: 0.0101,         Test Loss: 0.5323, Duration: 0:00:06.381938\n",
      "Epoch 90/128, Train Loss: 0.0138,         Test Loss: 0.7130, Duration: 0:00:06.357156\n",
      "Epoch 91/128, Train Loss: 0.0086,         Test Loss: 0.5801, Duration: 0:00:06.388087\n",
      "Epoch 92/128, Train Loss: 0.0158,         Test Loss: 0.5578, Duration: 0:00:06.383912\n",
      "Epoch 93/128, Train Loss: 0.0110,         Test Loss: 0.7999, Duration: 0:00:06.393374\n",
      "Epoch 94/128, Train Loss: 0.0101,         Test Loss: 0.6463, Duration: 0:00:06.381459\n"
     ]
    },
    {
     "name": "stdout",
     "output_type": "stream",
     "text": [
      "Epoch 95/128, Train Loss: 0.0183,         Test Loss: 0.4369, Duration: 0:00:06.378536\n",
      "Epoch 96/128, Train Loss: 0.0146,         Test Loss: 0.4417, Duration: 0:00:06.370681\n",
      "Epoch 97/128, Train Loss: 0.0108,         Test Loss: 0.5665, Duration: 0:00:06.383920\n",
      "Epoch 98/128, Train Loss: 0.0124,         Test Loss: 0.7202, Duration: 0:00:06.384845\n",
      "Epoch 99/128, Train Loss: 0.0201,         Test Loss: 0.3752, Duration: 0:00:06.369592\n",
      "Epoch 100/128, Train Loss: 0.0245,         Test Loss: 0.3682, Duration: 0:00:06.389496\n",
      "Epoch 101/128, Train Loss: 0.0154,         Test Loss: 0.5843, Duration: 0:00:06.380362\n",
      "Epoch 102/128, Train Loss: 0.0141,         Test Loss: 0.5302, Duration: 0:00:06.379468\n",
      "Epoch 103/128, Train Loss: 0.0171,         Test Loss: 0.4435, Duration: 0:00:06.379271\n",
      "Epoch 104/128, Train Loss: 0.0123,         Test Loss: 0.6602, Duration: 0:00:06.378643\n",
      "Epoch 105/128, Train Loss: 0.0109,         Test Loss: 0.6373, Duration: 0:00:06.400245\n",
      "Epoch 106/128, Train Loss: 0.0128,         Test Loss: 0.7374, Duration: 0:00:06.433629\n",
      "Epoch 107/128, Train Loss: 0.0075,         Test Loss: 0.8169, Duration: 0:00:06.370329\n",
      "Epoch 108/128, Train Loss: 0.0077,         Test Loss: 0.7893, Duration: 0:00:06.280217\n",
      "Epoch 109/128, Train Loss: 0.0117,         Test Loss: 0.6300, Duration: 0:00:06.480240\n",
      "Epoch 110/128, Train Loss: 0.0174,         Test Loss: 0.3928, Duration: 0:00:06.394563\n",
      "Epoch 111/128, Train Loss: 0.0218,         Test Loss: 0.5464, Duration: 0:00:06.461770\n",
      "Epoch 112/128, Train Loss: 0.0201,         Test Loss: 0.3414, Duration: 0:00:06.518370\n",
      "Epoch 113/128, Train Loss: 0.0268,         Test Loss: 0.6091, Duration: 0:00:06.420901\n",
      "Epoch 114/128, Train Loss: 0.0186,         Test Loss: 0.3199, Duration: 0:00:06.412923\n",
      "Epoch 115/128, Train Loss: 0.0150,         Test Loss: 0.5457, Duration: 0:00:06.489650\n",
      "Epoch 116/128, Train Loss: 0.0138,         Test Loss: 0.5051, Duration: 0:00:06.502504\n",
      "Epoch 117/128, Train Loss: 0.0122,         Test Loss: 0.5833, Duration: 0:00:06.338275\n",
      "Epoch 118/128, Train Loss: 0.0113,         Test Loss: 0.6758, Duration: 0:00:06.463284\n",
      "Epoch 119/128, Train Loss: 0.0103,         Test Loss: 0.6083, Duration: 0:00:06.369913\n",
      "Epoch 120/128, Train Loss: 0.0137,         Test Loss: 0.6812, Duration: 0:00:06.431026\n",
      "Epoch 121/128, Train Loss: 0.0122,         Test Loss: 0.5959, Duration: 0:00:06.316387\n",
      "Epoch 122/128, Train Loss: 0.0111,         Test Loss: 0.6785, Duration: 0:00:06.337350\n",
      "Epoch 123/128, Train Loss: 0.0106,         Test Loss: 0.6539, Duration: 0:00:06.318277\n",
      "Epoch 124/128, Train Loss: 0.0125,         Test Loss: 0.5362, Duration: 0:00:06.606648\n",
      "Epoch 125/128, Train Loss: 0.0213,         Test Loss: 0.7647, Duration: 0:00:06.470216\n",
      "Epoch 126/128, Train Loss: 0.0155,         Test Loss: 0.7043, Duration: 0:00:06.371082\n",
      "Epoch 127/128, Train Loss: 0.0107,         Test Loss: 0.5713, Duration: 0:00:06.681532\n",
      "Epoch 128/128, Train Loss: 0.0055,         Test Loss: 0.7412, Duration: 0:00:06.340554\n"
     ]
    }
   ],
   "source": [
    "train_losses, test_losses = run_training()"
   ]
  },
  {
   "cell_type": "code",
   "execution_count": 5,
   "metadata": {},
   "outputs": [
    {
     "data": {
      "text/plain": [
       "<All keys matched successfully>"
      ]
     },
     "execution_count": 5,
     "metadata": {},
     "output_type": "execute_result"
    }
   ],
   "source": [
    "model = SiameseNN(config.FEATURE_DIM)\n",
    "model.load_state_dict( state_dict = torch.load(config.TRAINED_MODEL_DIR / config.MODEL_NAME) )"
   ]
  },
  {
   "cell_type": "code",
   "execution_count": 6,
   "metadata": {},
   "outputs": [
    {
     "data": {
      "image/png": "[encoded data removed]",
      "text/plain": [
       "<Figure size 432x288 with 1 Axes>"
      ]
     },
     "metadata": {
      "needs_background": "light"
     },
     "output_type": "display_data"
    }
   ],
   "source": [
    "plt.plot(train_losses, label='train loss')\n",
    "plt.plot(test_losses, label='test loss')\n",
    "plt.legend()\n",
    "plt.show()"
   ]
  },
  {
   "cell_type": "code",
   "execution_count": 7,
   "metadata": {},
   "outputs": [],
   "source": [
    "from model.score import get_train_accuracy, get_test_accuracy"
   ]
  },
  {
   "cell_type": "code",
   "execution_count": null,
   "metadata": {},
   "outputs": [],
   "source": [
    "get_train_accuracy(model, train_images, train_positives, train_negatives, threshold=0.70)"
   ]
  },
  {
   "cell_type": "code",
   "execution_count": null,
   "metadata": {},
   "outputs": [],
   "source": [
    "get_test_accuracy(model, test_images, test_positives, test_negatives, threshold=0.70)"
   ]
  },
  {
   "cell_type": "code",
   "execution_count": null,
   "metadata": {},
   "outputs": [],
   "source": []
  }
 ],
 "metadata": {
  "kernelspec": {
   "display_name": "Python 3",
   "language": "python",
   "name": "python3"
  },
  "language_info": {
   "codemirror_mode": {
    "name": "ipython",
    "version": 3
   },
   "file_extension": ".py",
   "mimetype": "text/x-python",
   "name": "python",
   "nbconvert_exporter": "python",
   "pygments_lexer": "ipython3",
   "version": "3.7.9"
  }
 },
 "nbformat": 4,
 "nbformat_minor": 4
}
