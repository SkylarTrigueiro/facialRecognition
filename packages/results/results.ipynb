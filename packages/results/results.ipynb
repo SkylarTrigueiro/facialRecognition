{
 "cells": [
  {
   "cell_type": "code",
   "execution_count": 1,
   "metadata": {},
   "outputs": [
    {
     "name": "stderr",
     "output_type": "stream",
     "text": [
      "Using TensorFlow backend.\n"
     ]
    }
   ],
   "source": [
    "import torch\n",
    "import numpy as np\n",
    "import matplotlib.pyplot as plt\n",
    "\n",
    "from model.model import SiameseNN\n",
    "from model.config import config\n",
    "from model.processing.data_management import load_data, prepare_data, prepare_dataloader, train_generator, test_generator"
   ]
  },
  {
   "cell_type": "code",
   "execution_count": 2,
   "metadata": {},
   "outputs": [
    {
     "name": "stdout",
     "output_type": "stream",
     "text": [
      "C:\\Users\\skyst\\Documents\\ProfessionalDevelopment\\DataSciencePortfolio\\facialRecognition\\packages\\model\\model\\data\\subject*\n"
     ]
    }
   ],
   "source": [
    "data = load_data()"
   ]
  },
  {
   "cell_type": "code",
   "execution_count": 3,
   "metadata": {},
   "outputs": [],
   "source": [
    "train_images, train_labels, test_images, test_labels = prepare_data(data)"
   ]
  },
  {
   "cell_type": "code",
   "execution_count": 4,
   "metadata": {},
   "outputs": [],
   "source": [
    "train_positives, train_negatives, test_positives, test_negatives = prepare_dataloader(train_images, train_labels, test_images, test_labels)"
   ]
  },
  {
   "cell_type": "code",
   "execution_count": 5,
   "metadata": {},
   "outputs": [],
   "source": [
    "model = SiameseNN(config.FEATURE_DIM)"
   ]
  },
  {
   "cell_type": "code",
   "execution_count": 6,
   "metadata": {},
   "outputs": [
    {
     "data": {
      "text/plain": [
       "<All keys matched successfully>"
      ]
     },
     "execution_count": 6,
     "metadata": {},
     "output_type": "execute_result"
    }
   ],
   "source": [
    "model.load_state_dict( state_dict = torch.load(config.TRAINED_MODEL_DIR / config.MODEL_NAME) )"
   ]
  },
  {
   "cell_type": "code",
   "execution_count": 7,
   "metadata": {},
   "outputs": [
    {
     "name": "stdout",
     "output_type": "stream",
     "text": [
      "cuda:0\n"
     ]
    },
    {
     "data": {
      "text/plain": [
       "SiameseNN(\n",
       "  (cnn): Sequential(\n",
       "    (0): Conv2d(1, 32, kernel_size=(3, 3), stride=(1, 1), padding=(1, 1))\n",
       "    (1): ReLU()\n",
       "    (2): BatchNorm2d(32, eps=1e-05, momentum=0.1, affine=True, track_running_stats=True)\n",
       "    (3): Conv2d(32, 32, kernel_size=(3, 3), stride=(1, 1), padding=(1, 1))\n",
       "    (4): ReLU()\n",
       "    (5): BatchNorm2d(32, eps=1e-05, momentum=0.1, affine=True, track_running_stats=True)\n",
       "    (6): MaxPool2d(kernel_size=2, stride=2, padding=0, dilation=1, ceil_mode=False)\n",
       "    (7): Conv2d(32, 64, kernel_size=(3, 3), stride=(1, 1), padding=(1, 1))\n",
       "    (8): ReLU()\n",
       "    (9): BatchNorm2d(64, eps=1e-05, momentum=0.1, affine=True, track_running_stats=True)\n",
       "    (10): Conv2d(64, 64, kernel_size=(3, 3), stride=(1, 1), padding=(1, 1))\n",
       "    (11): ReLU()\n",
       "    (12): BatchNorm2d(64, eps=1e-05, momentum=0.1, affine=True, track_running_stats=True)\n",
       "    (13): MaxPool2d(kernel_size=2, stride=2, padding=0, dilation=1, ceil_mode=False)\n",
       "    (14): Conv2d(64, 128, kernel_size=(3, 3), stride=(1, 1), padding=(1, 1))\n",
       "    (15): ReLU()\n",
       "    (16): BatchNorm2d(128, eps=1e-05, momentum=0.1, affine=True, track_running_stats=True)\n",
       "    (17): Conv2d(128, 128, kernel_size=(3, 3), stride=(1, 1), padding=(1, 1))\n",
       "    (18): ReLU()\n",
       "    (19): BatchNorm2d(128, eps=1e-05, momentum=0.1, affine=True, track_running_stats=True)\n",
       "    (20): MaxPool2d(kernel_size=2, stride=2, padding=0, dilation=1, ceil_mode=False)\n",
       "    (21): Flatten()\n",
       "    (22): Linear(in_features=38400, out_features=256, bias=True)\n",
       "    (23): ReLU()\n",
       "    (24): Linear(in_features=256, out_features=64, bias=True)\n",
       "  )\n",
       ")"
      ]
     },
     "execution_count": 7,
     "metadata": {},
     "output_type": "execute_result"
    }
   ],
   "source": [
    "device = torch.device(\"cuda:0\" if torch.cuda.is_available() else \"cpu\")\n",
    "#device = torch.device(\"cpu\")\n",
    "print(device)\n",
    "model.to(device)"
   ]
  },
  {
   "cell_type": "code",
   "execution_count": 8,
   "metadata": {},
   "outputs": [
    {
     "data": {
      "text/plain": [
       "428"
      ]
     },
     "execution_count": 8,
     "metadata": {},
     "output_type": "execute_result"
    }
   ],
   "source": [
    "len(train_positives)"
   ]
  },
  {
   "cell_type": "code",
   "execution_count": 9,
   "metadata": {},
   "outputs": [
    {
     "data": {
      "text/plain": [
       "45"
      ]
     },
     "execution_count": 9,
     "metadata": {},
     "output_type": "execute_result"
    }
   ],
   "source": [
    "len(test_positives)"
   ]
  },
  {
   "cell_type": "code",
   "execution_count": 10,
   "metadata": {},
   "outputs": [],
   "source": [
    "# Convenience function to make predictions\n",
    "def predict(x1, x2):\n",
    "  x1 = torch.from_numpy(x1).float().to(device)\n",
    "  x2 = torch.from_numpy(x2).float().to(device)\n",
    "  with torch.no_grad():\n",
    "    dist = model(x1, x2).cpu().numpy()\n",
    "    return dist.flatten()"
   ]
  },
  {
   "cell_type": "code",
   "execution_count": 11,
   "metadata": {},
   "outputs": [],
   "source": [
    "# calculate accuracy before training\n",
    "# since the dataset is imbalanced, we'll report tp, tn, fp, fn\n",
    "def get_train_accuracy(threshold=0.85):\n",
    "  positive_distances = []\n",
    "  negative_distances = []\n",
    "\n",
    "  tp = 0\n",
    "  tn = 0\n",
    "  fp = 0\n",
    "  fn = 0\n",
    "\n",
    "  batch_size = config.BATCH_SIZE\n",
    "  x_batch_1 = np.zeros((batch_size, 1, config.H, config.W))\n",
    "  x_batch_2 = np.zeros((batch_size, 1, config.H, config.W))\n",
    "  n_batches = int(np.ceil(len(train_positives) / batch_size))\n",
    "  for i in range(n_batches):\n",
    "    pos_batch_indices = train_positives[i * batch_size: (i + 1) * batch_size]\n",
    "\n",
    "    # fill up x_batch and y_batch\n",
    "    j = 0\n",
    "    for idx1, idx2 in pos_batch_indices:\n",
    "      x_batch_1[j,0] = train_images[idx1]\n",
    "      x_batch_2[j,0] = train_images[idx2]\n",
    "      j += 1\n",
    "\n",
    "    x1 = x_batch_1[:j]\n",
    "    x2 = x_batch_2[:j]\n",
    "    distances = predict(x1, x2)\n",
    "    positive_distances += distances.tolist()\n",
    "\n",
    "    # update tp, tn, fp, fn\n",
    "    tp += (distances < threshold).sum()\n",
    "    fn += (distances > threshold).sum()\n",
    "\n",
    "  n_batches = int(np.ceil(len(train_negatives) / batch_size))\n",
    "  for i in range(n_batches):\n",
    "    neg_batch_indices = train_negatives[i * batch_size: (i + 1) * batch_size]\n",
    "\n",
    "    # fill up x_batch and y_batch\n",
    "    j = 0\n",
    "    for idx1, idx2 in neg_batch_indices:\n",
    "      x_batch_1[j,0] = train_images[idx1]\n",
    "      x_batch_2[j,0] = train_images[idx2]\n",
    "      j += 1\n",
    "\n",
    "    x1 = x_batch_1[:j]\n",
    "    x2 = x_batch_2[:j]\n",
    "    distances = predict(x1, x2)\n",
    "    negative_distances += distances.tolist()\n",
    "\n",
    "    # update tp, tn, fp, fn\n",
    "    fp += (distances < threshold).sum()\n",
    "    tn += (distances > threshold).sum()\n",
    "\n",
    "  tpr = tp / (tp + fn)\n",
    "  tnr = tn / (tn + fp)\n",
    "  print(tp + fn)\n",
    "  print(tn + fp)\n",
    "  print(f\"sensitivity (tpr): {tpr}, specificity (tnr): {tnr}\")\n",
    "\n",
    "  plt.hist(negative_distances, bins=20, density=True, label='negative_distances')\n",
    "  plt.hist(positive_distances, bins=20, density=True, label='positive_distances')\n",
    "  plt.legend()\n",
    "  plt.show()"
   ]
  },
  {
   "cell_type": "code",
   "execution_count": 12,
   "metadata": {},
   "outputs": [],
   "source": [
    "def get_test_accuracy(threshold=0.85):\n",
    "  positive_distances = []\n",
    "  negative_distances = []\n",
    "\n",
    "  tp = 0\n",
    "  tn = 0\n",
    "  fp = 0\n",
    "  fn = 0\n",
    "\n",
    "  batch_size = config.BATCH_SIZE\n",
    "  x_batch_1 = np.zeros((batch_size, 1, config.H, config.W))\n",
    "  x_batch_2 = np.zeros((batch_size, 1,config.H, config.W))\n",
    "  n_batches = int(np.ceil(len(test_positives) / batch_size))\n",
    "  for i in range(n_batches):\n",
    "    pos_batch_indices = test_positives[i * batch_size: (i + 1) * batch_size]\n",
    "\n",
    "    # fill up x_batch and y_batch\n",
    "    j = 0\n",
    "    for idx1, idx2 in pos_batch_indices:\n",
    "      x_batch_1[j,0] = test_images[idx1]\n",
    "      x_batch_2[j,0] = test_images[idx2]\n",
    "      j += 1\n",
    "\n",
    "    x1 = x_batch_1[:j]\n",
    "    x2 = x_batch_2[:j]\n",
    "    distances = predict(x1, x2)\n",
    "    positive_distances += distances.tolist()\n",
    "\n",
    "    # update tp, tn, fp, fn\n",
    "    tp += (distances < threshold).sum()\n",
    "    fn += (distances > threshold).sum()\n",
    "\n",
    "  n_batches = int(np.ceil(len(test_negatives) / batch_size))\n",
    "  for i in range(n_batches):\n",
    "    neg_batch_indices = test_negatives[i * batch_size: (i + 1) * batch_size]\n",
    "\n",
    "    # fill up x_batch and y_batch\n",
    "    j = 0\n",
    "    for idx1, idx2 in neg_batch_indices:\n",
    "      x_batch_1[j] = test_images[idx1]\n",
    "      x_batch_2[j] = test_images[idx2]\n",
    "      j += 1\n",
    "\n",
    "    x1 = x_batch_1[:j]\n",
    "    x2 = x_batch_2[:j]\n",
    "    distances = predict(x1, x2)\n",
    "    negative_distances += distances.tolist()\n",
    "\n",
    "    # update tp, tn, fp, fn\n",
    "    fp += (distances < threshold).sum()\n",
    "    tn += (distances > threshold).sum()\n",
    "\n",
    "\n",
    "  tpr = tp / (tp + fn)\n",
    "  tnr = tn / (tn + fp)\n",
    "  print(tp + fn)\n",
    "  print(tn + fp)\n",
    "  print(f\"sensitivity (tpr): {tpr}, specificity (tnr): {tnr}\")\n",
    "\n",
    "  plt.hist(negative_distances, bins=20, density=True, label='negative_distances')\n",
    "  plt.hist(positive_distances, bins=20, density=True, label='positive_distances')\n",
    "  plt.legend()\n",
    "  plt.show()"
   ]
  },
  {
   "cell_type": "code",
   "execution_count": 13,
   "metadata": {},
   "outputs": [
    {
     "name": "stdout",
     "output_type": "stream",
     "text": [
      "428\n",
      "13664\n",
      "sensitivity (tpr): 1.0, specificity (tnr): 0.9716042154566745\n"
     ]
    },
    {
     "data": {
      "image/png": "[encoded data removed]",
      "text/plain": [
       "<Figure size 432x288 with 1 Axes>"
      ]
     },
     "metadata": {
      "needs_background": "light"
     },
     "output_type": "display_data"
    }
   ],
   "source": [
    "get_train_accuracy(0.7402)"
   ]
  },
  {
   "cell_type": "code",
   "execution_count": 14,
   "metadata": {},
   "outputs": [
    {
     "name": "stdout",
     "output_type": "stream",
     "text": [
      "45\n",
      "1890\n",
      "sensitivity (tpr): 1.0, specificity (tnr): 0.9851851851851852\n"
     ]
    },
    {
     "data": {
      "image/png": "[encoded data removed]",
      "text/plain": [
       "<Figure size 432x288 with 1 Axes>"
      ]
     },
     "metadata": {
      "needs_background": "light"
     },
     "output_type": "display_data"
    }
   ],
   "source": [
    "get_test_accuracy(0.7402)"
   ]
  },
  {
   "cell_type": "code",
   "execution_count": null,
   "metadata": {},
   "outputs": [],
   "source": []
  }
 ],
 "metadata": {
  "kernelspec": {
   "display_name": "Python 3",
   "language": "python",
   "name": "python3"
  },
  "language_info": {
   "codemirror_mode": {
    "name": "ipython",
    "version": 3
   },
   "file_extension": ".py",
   "mimetype": "text/x-python",
   "name": "python",
   "nbconvert_exporter": "python",
   "pygments_lexer": "ipython3",
   "version": "3.7.9"
  }
 },
 "nbformat": 4,
 "nbformat_minor": 4
}
